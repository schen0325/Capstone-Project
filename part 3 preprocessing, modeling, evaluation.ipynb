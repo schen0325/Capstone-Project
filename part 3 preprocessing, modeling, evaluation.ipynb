{
 "cells": [
  {
   "cell_type": "markdown",
   "id": "f43a5984-0167-4318-b708-ff5c0e53014b",
   "metadata": {},
   "source": [
    "# Capstone Project: Stroke Prediction"
   ]
  },
  {
   "cell_type": "markdown",
   "id": "e7416735-5438-4e86-b04b-02c25a2302b2",
   "metadata": {},
   "source": [
    "## 3. Preprocessing, Modeling, Evaluation"
   ]
  },
  {
   "cell_type": "code",
   "execution_count": 27,
   "id": "3fb1b6a9-a45b-4b62-9260-3b13cd90e13a",
   "metadata": {},
   "outputs": [],
   "source": [
    "# Library imports.\n",
    "import pandas as pd\n",
    "import numpy as np\n",
    "import matplotlib.pyplot as plt\n",
    "\n",
    "from sklearn.preprocessing import StandardScaler, PolynomialFeatures\n",
    "from imblearn.over_sampling import SMOTE\n",
    "from sklearn.model_selection import train_test_split, GridSearchCV\n",
    "\n",
    "from sklearn.linear_model import LogisticRegression\n",
    "from sklearn.neighbors import KNeighborsClassifier\n",
    "from sklearn.ensemble import RandomForestClassifier, AdaBoostClassifier\n",
    "from sklearn.svm import LinearSVC\n",
    "\n",
    "from sklearn import metrics\n",
    "from sklearn.metrics import confusion_matrix, accuracy_score, ConfusionMatrixDisplay\n",
    "\n",
    "import pickle \n",
    "\n",
    "import warnings\n",
    "warnings.filterwarnings('ignore')"
   ]
  },
  {
   "cell_type": "code",
   "execution_count": 28,
   "id": "2300849f-7648-4368-82ad-629bff75b844",
   "metadata": {},
   "outputs": [
    {
     "data": {
      "text/html": [
       "<div>\n",
       "<style scoped>\n",
       "    .dataframe tbody tr th:only-of-type {\n",
       "        vertical-align: middle;\n",
       "    }\n",
       "\n",
       "    .dataframe tbody tr th {\n",
       "        vertical-align: top;\n",
       "    }\n",
       "\n",
       "    .dataframe thead th {\n",
       "        text-align: right;\n",
       "    }\n",
       "</style>\n",
       "<table border=\"1\" class=\"dataframe\">\n",
       "  <thead>\n",
       "    <tr style=\"text-align: right;\">\n",
       "      <th></th>\n",
       "      <th>gender</th>\n",
       "      <th>age</th>\n",
       "      <th>hypertension</th>\n",
       "      <th>heart_disease</th>\n",
       "      <th>ever_married</th>\n",
       "      <th>work_type</th>\n",
       "      <th>residence_type</th>\n",
       "      <th>avg_glucose_level</th>\n",
       "      <th>bmi</th>\n",
       "      <th>smoking_status</th>\n",
       "      <th>stroke</th>\n",
       "    </tr>\n",
       "  </thead>\n",
       "  <tbody>\n",
       "    <tr>\n",
       "      <th>0</th>\n",
       "      <td>Male</td>\n",
       "      <td>67.0</td>\n",
       "      <td>0</td>\n",
       "      <td>1</td>\n",
       "      <td>Yes</td>\n",
       "      <td>Private</td>\n",
       "      <td>Urban</td>\n",
       "      <td>228.69</td>\n",
       "      <td>36.6</td>\n",
       "      <td>formerly_smoked</td>\n",
       "      <td>1</td>\n",
       "    </tr>\n",
       "    <tr>\n",
       "      <th>1</th>\n",
       "      <td>Male</td>\n",
       "      <td>80.0</td>\n",
       "      <td>0</td>\n",
       "      <td>1</td>\n",
       "      <td>Yes</td>\n",
       "      <td>Private</td>\n",
       "      <td>Rural</td>\n",
       "      <td>105.92</td>\n",
       "      <td>32.5</td>\n",
       "      <td>never_smoked</td>\n",
       "      <td>1</td>\n",
       "    </tr>\n",
       "    <tr>\n",
       "      <th>2</th>\n",
       "      <td>Female</td>\n",
       "      <td>49.0</td>\n",
       "      <td>0</td>\n",
       "      <td>0</td>\n",
       "      <td>Yes</td>\n",
       "      <td>Private</td>\n",
       "      <td>Urban</td>\n",
       "      <td>171.23</td>\n",
       "      <td>34.4</td>\n",
       "      <td>smokes</td>\n",
       "      <td>1</td>\n",
       "    </tr>\n",
       "    <tr>\n",
       "      <th>3</th>\n",
       "      <td>Female</td>\n",
       "      <td>79.0</td>\n",
       "      <td>1</td>\n",
       "      <td>0</td>\n",
       "      <td>Yes</td>\n",
       "      <td>Self_employed</td>\n",
       "      <td>Rural</td>\n",
       "      <td>174.12</td>\n",
       "      <td>24.0</td>\n",
       "      <td>never_smoked</td>\n",
       "      <td>1</td>\n",
       "    </tr>\n",
       "    <tr>\n",
       "      <th>4</th>\n",
       "      <td>Male</td>\n",
       "      <td>81.0</td>\n",
       "      <td>0</td>\n",
       "      <td>0</td>\n",
       "      <td>Yes</td>\n",
       "      <td>Private</td>\n",
       "      <td>Urban</td>\n",
       "      <td>186.21</td>\n",
       "      <td>29.0</td>\n",
       "      <td>formerly_smoked</td>\n",
       "      <td>1</td>\n",
       "    </tr>\n",
       "  </tbody>\n",
       "</table>\n",
       "</div>"
      ],
      "text/plain": [
       "   gender   age  hypertension  heart_disease ever_married      work_type  \\\n",
       "0    Male  67.0             0              1          Yes        Private   \n",
       "1    Male  80.0             0              1          Yes        Private   \n",
       "2  Female  49.0             0              0          Yes        Private   \n",
       "3  Female  79.0             1              0          Yes  Self_employed   \n",
       "4    Male  81.0             0              0          Yes        Private   \n",
       "\n",
       "  residence_type  avg_glucose_level   bmi   smoking_status  stroke  \n",
       "0          Urban             228.69  36.6  formerly_smoked       1  \n",
       "1          Rural             105.92  32.5     never_smoked       1  \n",
       "2          Urban             171.23  34.4           smokes       1  \n",
       "3          Rural             174.12  24.0     never_smoked       1  \n",
       "4          Urban             186.21  29.0  formerly_smoked       1  "
      ]
     },
     "execution_count": 28,
     "metadata": {},
     "output_type": "execute_result"
    }
   ],
   "source": [
    "# Read in cleaned data.\n",
    "stroke = pd.read_csv('cleaned_data/stroke.csv')\n",
    "# Take a look at data.\n",
    "stroke.head()"
   ]
  },
  {
   "cell_type": "markdown",
   "id": "867d004a-5c16-491f-ba27-253585b413b5",
   "metadata": {},
   "source": [
    "#### Feature Engineering"
   ]
  },
  {
   "cell_type": "code",
   "execution_count": 29,
   "id": "b93f6b23-07db-4a24-a345-9ea0df97dcf2",
   "metadata": {},
   "outputs": [],
   "source": [
    "# Create a column for those over the age of 65.\n",
    "stroke['senior'] = np.where(stroke['age']>= 65, 1, 0)\n",
    "\n",
    "# Encode Categorical Features.\n",
    "stroke['gender'].replace(('Male', 'Female', 'Other'), (1, 0, -1), inplace=True)\n",
    "stroke['ever_married'].replace(('Yes', 'No'), (1, 0), inplace=True)\n",
    "stroke['residence_type'].replace(('Urban', 'Rural'), (1, 0), inplace=True)\n",
    "\n",
    "# Dummify columns.\n",
    "stroke = pd.get_dummies(data=stroke, columns=['smoking_status'], drop_first=True)\n",
    "stroke = pd.get_dummies(data=stroke, columns=['work_type'], drop_first=True)"
   ]
  },
  {
   "cell_type": "markdown",
   "id": "04ae8ffc-7a63-4dcf-92f9-31670062d3cb",
   "metadata": {
    "tags": []
   },
   "source": [
    "#### Train Test Split"
   ]
  },
  {
   "cell_type": "code",
   "execution_count": 30,
   "id": "c4de7c5c-2dcb-4e79-a7c4-2765fcec388a",
   "metadata": {},
   "outputs": [],
   "source": [
    "X = stroke.drop(columns=['stroke'])\n",
    "y = stroke['stroke']\n",
    "X_train, X_test, y_train, y_test = train_test_split(X, y, random_state=42, stratify=y)"
   ]
  },
  {
   "cell_type": "code",
   "execution_count": 31,
   "id": "239730fc-5eed-4624-a3f4-bf358ff61bae",
   "metadata": {},
   "outputs": [
    {
     "data": {
      "text/plain": [
       "0    0.957349\n",
       "1    0.042651\n",
       "Name: stroke, dtype: float64"
      ]
     },
     "execution_count": 31,
     "metadata": {},
     "output_type": "execute_result"
    }
   ],
   "source": [
    "# Baseline accuracy score.\n",
    "y_train.value_counts(normalize = True)"
   ]
  },
  {
   "cell_type": "markdown",
   "id": "c44a6104-27c7-4daf-b467-dd54988d5ee5",
   "metadata": {},
   "source": [
    "- very imbalanced"
   ]
  },
  {
   "cell_type": "code",
   "execution_count": 32,
   "id": "1ea96d15-5223-4da4-8812-f0f8fbb1e987",
   "metadata": {},
   "outputs": [],
   "source": [
    "# Instantiate PolynomialFeatures.\n",
    "poly = PolynomialFeatures(include_bias=False)\n",
    "\n",
    "# Fit and transform PolynomialFeatures tp training data.\n",
    "X_train_poly = poly.fit_transform(X_train)\n",
    "# Transform the testing data.\n",
    "X_test_poly = poly.transform(X_test) "
   ]
  },
  {
   "cell_type": "markdown",
   "id": "14997cc5-445a-4dcc-b913-fb96bd0390bf",
   "metadata": {
    "tags": []
   },
   "source": [
    "#### Handle Imbalance Class with SMOTE"
   ]
  },
  {
   "cell_type": "code",
   "execution_count": 33,
   "id": "11b6dc25-5703-4dc8-9825-22b35e4da7cc",
   "metadata": {},
   "outputs": [
    {
     "data": {
      "text/plain": [
       "0    0.5\n",
       "1    0.5\n",
       "Name: stroke, dtype: float64"
      ]
     },
     "execution_count": 33,
     "metadata": {},
     "output_type": "execute_result"
    }
   ],
   "source": [
    "# Instantiate SMOTE.\n",
    "oversample = SMOTE(random_state=42)\n",
    "\n",
    "# Fit SMOTE.\n",
    "X_train_smote, y_train_smote = oversample.fit_resample(X_train_poly, y_train)\n",
    "\n",
    "# Take a look.\n",
    "y_train_smote.value_counts(normalize = True)"
   ]
  },
  {
   "cell_type": "code",
   "execution_count": 34,
   "id": "ae076f1a-88ec-4954-b611-d1f9b7fcb6ea",
   "metadata": {},
   "outputs": [
    {
     "name": "stdout",
     "output_type": "stream",
     "text": [
      "X_train Size Before SMOTE: (3681, 16)\n",
      "y_train Size Before SMOTE: (3681,)\n",
      "X_train Size After SMOTE: (7048, 152)\n",
      "y_train Size After SMOTE: (7048,)\n"
     ]
    }
   ],
   "source": [
    "# Take a look at the size of dataset before and after SMOTE.\n",
    "print(f'X_train Size Before SMOTE: {X_train.shape}')\n",
    "print(f'y_train Size Before SMOTE: {y_train.shape}')\n",
    "print(f'X_train Size After SMOTE: {X_train_smote.shape}')\n",
    "print(f'y_train Size After SMOTE: {y_train_smote.shape}')"
   ]
  },
  {
   "cell_type": "markdown",
   "id": "ae327ce8-3f3e-49eb-9d22-32507d0dd9a1",
   "metadata": {},
   "source": [
    "#### Standardize Data"
   ]
  },
  {
   "cell_type": "code",
   "execution_count": 35,
   "id": "25eb00c8-4145-4bd6-b84c-58b139a41695",
   "metadata": {},
   "outputs": [],
   "source": [
    "# Instantiate standard scalar. \n",
    "ss = StandardScaler() \n",
    "\n",
    "# Fit and transform standard scalar to training data.\n",
    "Z_train_smote = ss.fit_transform(X_train_smote)\n",
    "# Transform the testing data.\n",
    "Z_test = ss.transform(X_test_poly)"
   ]
  },
  {
   "cell_type": "markdown",
   "id": "4f668afc-d404-404a-a525-acdfa9d3aae3",
   "metadata": {
    "tags": []
   },
   "source": [
    "#### Logistic Regression"
   ]
  },
  {
   "cell_type": "code",
   "execution_count": 36,
   "id": "2801a75e-478d-4102-a5ab-a610f66d3658",
   "metadata": {},
   "outputs": [
    {
     "name": "stdout",
     "output_type": "stream",
     "text": [
      "Logisitic Regression Recall Score: 0.6153846153846154\n",
      "Training Score: 0.8436435868331441\n",
      "Testing Score: 0.7947882736156352\n"
     ]
    }
   ],
   "source": [
    "# Instantiate logistic regression.\n",
    "logreg = LogisticRegression()\n",
    "\n",
    "# Fit logistic regression to training data.\n",
    "logreg.fit(Z_train_smote, y_train_smote)\n",
    "\n",
    "# Measure performance based on recall score.\n",
    "print(f'Logisitic Regression Recall Score: {metrics.recall_score(y_test, logreg.predict(Z_test))}')\n",
    "\n",
    "# Take a look at Accuracy score.\n",
    "print(f'Training Score: {logreg.score(Z_train_smote, y_train_smote)}')\n",
    "print(f'Testing Score: {logreg.score(Z_test, y_test)}')"
   ]
  },
  {
   "cell_type": "markdown",
   "id": "5ae4d748-e040-4613-9a84-0f703ef70fdb",
   "metadata": {},
   "source": [
    "#### K-Nearest Neighbors"
   ]
  },
  {
   "cell_type": "code",
   "execution_count": 11,
   "id": "f051a532-8f99-4a3e-ba96-2478035a12a9",
   "metadata": {},
   "outputs": [
    {
     "name": "stdout",
     "output_type": "stream",
     "text": [
      "K-Nearest Neighbors Recall Score: 0.2692307692307692\n",
      "Training Score: 0.9626844494892168\n",
      "Testing Score: 0.8745928338762216\n"
     ]
    }
   ],
   "source": [
    "# Instantiate KNN.\n",
    "knn = KNeighborsClassifier()\n",
    "\n",
    "# Fit KNN to training data.\n",
    "knn.fit(Z_train_smote, y_train_smote)\n",
    "\n",
    "# Measure performance based on recall score.\n",
    "print(f'K-Nearest Neighbors Recall Score: {metrics.recall_score(y_test, knn.predict(Z_test))}')\n",
    "\n",
    "# Take a look at Accuracy score.\n",
    "print(f'Training Score: {knn.score(Z_train_smote, y_train_smote)}')\n",
    "print(f'Testing Score: {knn.score(Z_test, y_test)}')"
   ]
  },
  {
   "cell_type": "code",
   "execution_count": 12,
   "id": "271c8a66-9deb-4dc8-a014-8f11cdc310fa",
   "metadata": {},
   "outputs": [
    {
     "name": "stdout",
     "output_type": "stream",
     "text": [
      "Best Hyperparameters: {'n_neighbors': 3, 'p': 1, 'weights': 'distance'}\n",
      "Best Score: 0.968076046086707\n",
      "K-Nearest Neighbors w/ GridSearch Recall Score: 0.11538461538461539\n",
      "Training Score: 1.0\n",
      "Testing Score: 0.9071661237785016\n"
     ]
    }
   ],
   "source": [
    "# Search over the following values of hyperparameters:\n",
    "knn_params = {\n",
    "    'p': [1, 2],\n",
    "    'weights': ['uniform', 'distance'],\n",
    "    'n_neighbors': [3, 5, 10]\n",
    "}\n",
    "\n",
    "# Instantiate GridSearchCV.\n",
    "knn_gs = GridSearchCV(knn,\n",
    "                        param_grid = knn_params, \n",
    "                        cv=5, \n",
    "                        n_jobs=-1)\n",
    "\n",
    "# Fit GridSearch to training data.\n",
    "knn_gs.fit(Z_train_smote, y_train_smote)\n",
    "\n",
    "# Best hyperparameters and best score.\n",
    "print(f'Best Hyperparameters: {knn_gs.best_params_}')\n",
    "print(f'Best Score: {knn_gs.best_score_}')\n",
    "\n",
    "# Measure performance based on recall score.\n",
    "print(f'K-Nearest Neighbors w/ GridSearch Recall Score: {metrics.recall_score(y_test, knn_gs.predict(Z_test))}')\n",
    "\n",
    "# Take a look at Accuracy score.\n",
    "print(f'Training Score: {knn_gs.score(Z_train_smote, y_train_smote)}')\n",
    "print(f'Testing Score: {knn_gs.score(Z_test, y_test)}')"
   ]
  },
  {
   "cell_type": "markdown",
   "id": "b2bd4220-4680-4176-8f86-3245dfa25cfe",
   "metadata": {
    "tags": []
   },
   "source": [
    "#### Random Forests"
   ]
  },
  {
   "cell_type": "code",
   "execution_count": 13,
   "id": "678409f8-e7c9-4735-8cea-1485151a6a64",
   "metadata": {},
   "outputs": [
    {
     "name": "stdout",
     "output_type": "stream",
     "text": [
      "Random Forests Recall Score: 0.0\n",
      "Training Score: 1.0\n",
      "Testing Score: 0.9503257328990228\n"
     ]
    }
   ],
   "source": [
    "# Instantiate random forests.\n",
    "rf = RandomForestClassifier(random_state = 42)\n",
    "\n",
    "# Fit random forests.\n",
    "rf.fit(Z_train_smote, y_train_smote)\n",
    "\n",
    "# Measure performance based on recall score.\n",
    "print(f'Random Forests Recall Score: {metrics.recall_score(y_test, rf.predict(Z_test))}')\n",
    "\n",
    "# Take a look at Accuracy score.\n",
    "print(f'Training Score: {rf.score(Z_train_smote, y_train_smote)}')\n",
    "print(f'Testing Score: {rf.score(Z_test, y_test)}')"
   ]
  },
  {
   "cell_type": "code",
   "execution_count": 14,
   "id": "97ad2788-d71e-4313-9ddd-4f46e878498a",
   "metadata": {},
   "outputs": [
    {
     "name": "stdout",
     "output_type": "stream",
     "text": [
      "Best Hyperparameters: {'max_depth': None, 'min_samples_leaf': 2, 'min_samples_split': 3, 'n_estimators': 100}\n",
      "Best Score: 0.9746082176887185\n",
      "Random Forests w/ GridSearch Recall Score: 0.0\n",
      "Training Score: 0.9926220204313281\n",
      "Testing Score: 0.9495114006514658\n"
     ]
    }
   ],
   "source": [
    "# Search over the following values of hyperparameters:\n",
    "rf_params = {\n",
    "    'n_estimators': [100, 150, 200],\n",
    "    'max_depth': [None, 1, 2, 3, 4, 5],\n",
    "    'min_samples_split': [3, 4, 5, 10, 15],\n",
    "    'min_samples_leaf': [2, 3, 4, 5, 10, 15]\n",
    "}\n",
    "\n",
    "# Instantiate GridSearchCV.\n",
    "rf_gs = GridSearchCV(rf, \n",
    "                     param_grid = rf_params, \n",
    "                     cv=5, \n",
    "                     n_jobs=-1)\n",
    "\n",
    "# Fit GridSearch to training data.\n",
    "rf_gs.fit(Z_train_smote, y_train_smote)\n",
    "\n",
    "# Best hyperparameters and best score.\n",
    "print(f'Best Hyperparameters: {rf_gs.best_params_}')\n",
    "print(f'Best Score: {rf_gs.best_score_}')\n",
    "\n",
    "# Measure performance based on recall score.\n",
    "print(f'Random Forests w/ GridSearch Recall Score: {metrics.recall_score(y_test, rf_gs.predict(Z_test))}')\n",
    "\n",
    "# Take a look at Accuracy score.\n",
    "print(f'Training Score: {rf_gs.score(Z_train_smote, y_train_smote)}')\n",
    "print(f'Testing Score: {rf_gs.score(Z_test, y_test)}')"
   ]
  },
  {
   "cell_type": "markdown",
   "id": "e361adba-1886-4a72-81be-abb38324bf14",
   "metadata": {},
   "source": [
    "#### Support Vector Machines"
   ]
  },
  {
   "cell_type": "code",
   "execution_count": 15,
   "id": "203e2c6a-f53c-4f03-a664-f6e316c19663",
   "metadata": {},
   "outputs": [
    {
     "name": "stdout",
     "output_type": "stream",
     "text": [
      "Support Vector Machines Recall Score: 0.5961538461538461\n",
      "Training Score: 0.8514472190692395\n",
      "Testing Score: 0.7866449511400652\n"
     ]
    }
   ],
   "source": [
    "# Instantiate SVM.\n",
    "svm = LinearSVC(random_state=42)\n",
    "\n",
    "# Fit SVM.\n",
    "svm.fit(Z_train_smote, y_train_smote)\n",
    "\n",
    "# Measure performance based on recall score.\n",
    "print(f'Support Vector Machines Recall Score: {metrics.recall_score(y_test, svm.predict(Z_test))}')\n",
    "\n",
    "# Take a look at Accuracy score.\n",
    "print(f'Training Score: {svm.score(Z_train_smote, y_train_smote)}')\n",
    "print(f'Testing Score: {svm.score(Z_test, y_test)}')"
   ]
  },
  {
   "cell_type": "code",
   "execution_count": 16,
   "id": "1c4284d9-c0bf-4150-a99a-6928391dd203",
   "metadata": {},
   "outputs": [
    {
     "name": "stdout",
     "output_type": "stream",
     "text": [
      "Best Hyperparameters: {'C': 0.9473736842105264, 'max_iter': 100000}\n",
      "Best Score: 0.8395288645938722\n",
      "Support Vector Machines w/ GridSearch Recall Score: 0.6153846153846154\n",
      "Training Score: 0.8490351872871736\n",
      "Testing Score: 0.7890879478827362\n"
     ]
    }
   ],
   "source": [
    "# Search over the following values of hyperparameters:\n",
    "svm_params = {\n",
    "    'C': np.linspace(0.0001, 1, 20),\n",
    "    'max_iter': [100_000, 1_000_000]\n",
    "}\n",
    "\n",
    "# Instantiate GridSearchCV.\n",
    "svm_gs = GridSearchCV(svm, \n",
    "                     param_grid = svm_params, \n",
    "                     cv=5, \n",
    "                     n_jobs=-1)\n",
    "\n",
    "# Fit GridSearch to training data.\n",
    "svm_gs.fit(Z_train_smote, y_train_smote)\n",
    "\n",
    "# Best hyperparameters and best score.\n",
    "print(f'Best Hyperparameters: {svm_gs.best_params_}')\n",
    "print(f'Best Score: {svm_gs.best_score_}')\n",
    "\n",
    "# Measure performance based on recall score.\n",
    "print(f'Support Vector Machines w/ GridSearch Recall Score: {metrics.recall_score(y_test, svm_gs.predict(Z_test))}')\n",
    "\n",
    "# Take a look at Accuracy score.\n",
    "print(f'Training Score: {svm_gs.score(Z_train_smote, y_train_smote)}')\n",
    "print(f'Testing Score: {svm_gs.score(Z_test, y_test)}')"
   ]
  },
  {
   "cell_type": "markdown",
   "id": "ab997dd8-6409-47e6-ad79-c9b7cf96200a",
   "metadata": {
    "tags": []
   },
   "source": [
    "#### AdaBoost"
   ]
  },
  {
   "cell_type": "code",
   "execution_count": 17,
   "id": "e4bf8e79-c157-4513-8d6a-74ce14095491",
   "metadata": {},
   "outputs": [
    {
     "name": "stdout",
     "output_type": "stream",
     "text": [
      "AdaBoost Recall Score: 0.0\n",
      "Training Score: 0.9687854710556186\n",
      "Testing Score: 0.9429967426710097\n"
     ]
    }
   ],
   "source": [
    "# Instantiate adaboost.\n",
    "ab = AdaBoostClassifier(random_state=42)\n",
    "\n",
    "# Fit adaboost.\n",
    "ab.fit(Z_train_smote, y_train_smote)\n",
    "\n",
    "# Measure performance based on recall score.\n",
    "print(f'AdaBoost Recall Score: {metrics.recall_score(y_test, ab.predict(Z_test))}')\n",
    "\n",
    "# Take a look at Accuracy score.\n",
    "print(f'Training Score: {ab.score(Z_train_smote, y_train_smote)}')\n",
    "print(f'Testing Score: {ab.score(Z_test, y_test)}')"
   ]
  },
  {
   "cell_type": "code",
   "execution_count": 18,
   "id": "195a5898-5bbc-4751-bcfa-a1e05228f2f8",
   "metadata": {},
   "outputs": [
    {
     "name": "stdout",
     "output_type": "stream",
     "text": [
      "Best Hyperparameters: {'learning_rate': 0.7431578947368421, 'n_estimators': 300}\n",
      "Best Score: 0.9687905007827089\n",
      "AdaBoost w/ GridSearch Recall Score: 0.019230769230769232\n",
      "Training Score: 0.978433598183882\n",
      "Testing Score: 0.9438110749185668\n"
     ]
    }
   ],
   "source": [
    "# Search over the following values of hyperparameters:\n",
    "ab_params = {\n",
    "    'learning_rate': np.linspace(0.01, 2, 20),\n",
    "    'n_estimators': [100, 200, 300]\n",
    "}\n",
    "\n",
    "# Instantiate GridSearchCV.\n",
    "ab_gs = GridSearchCV(ab, \n",
    "                     param_grid = ab_params, \n",
    "                     cv=5, \n",
    "                     n_jobs=-1)\n",
    "\n",
    "# Fit GridSearch to training data.\n",
    "ab_gs.fit(Z_train_smote, y_train_smote)\n",
    "\n",
    "# Best hyperparameters and best score.\n",
    "print(f'Best Hyperparameters: {ab_gs.best_params_}')\n",
    "print(f'Best Score: {ab_gs.best_score_}')\n",
    "\n",
    "# Measure performance based on recall score.\n",
    "print(f'AdaBoost w/ GridSearch Recall Score: {metrics.recall_score(y_test, ab_gs.predict(Z_test))}')\n",
    "\n",
    "# Take a look at Accuracy score.\n",
    "print(f'Training Score: {ab_gs.score(Z_train_smote, y_train_smote)}')\n",
    "print(f'Testing Score: {ab_gs.score(Z_test, y_test)}')"
   ]
  },
  {
   "cell_type": "markdown",
   "id": "35cf5fb1-80d3-40cf-a0a1-8c6e215ce865",
   "metadata": {},
   "source": [
    "#### Evaluation"
   ]
  },
  {
   "cell_type": "markdown",
   "id": "9a7655a6-b820-439f-b213-a2eedcee4a59",
   "metadata": {},
   "source": [
    "| Model                                | Recall | Accuracy |\n",
    "|--------------------------------------|--------|----------|\n",
    "| Logistic Regression                  | 0.6154 | 0.7948   |\n",
    "| K-Nearest Neighbors                  | 0.2692 | 0.8746   |\n",
    "| K-Nearest Neighbors w/GridSearch     | 0.1154 | 0.9072   |\n",
    "| Random Forests                       | 0.0    | 0.9487   |\n",
    "| Random Forests w/GridSearch          | 0.0    | 0.9495   |\n",
    "| Support Vector Machines              | 0.5962 | 0.7866   |\n",
    "| Support Vector Machines w/GridSearch | 0.6154 | 0.7891   |\n",
    "| AdaBoost                             | 0.0    | 0.9430   |\n",
    "| AdaBoost w/GridSearch                | 0.0192 | 0.9438   |"
   ]
  },
  {
   "cell_type": "code",
   "execution_count": 19,
   "id": "565311e6-1200-4d49-886f-544f678820bb",
   "metadata": {},
   "outputs": [
    {
     "data": {
      "image/png": "[encoded data removed]",
      "text/plain": [
       "<Figure size 432x288 with 1 Axes>"
      ]
     },
     "metadata": {
      "needs_background": "light"
     },
     "output_type": "display_data"
    }
   ],
   "source": [
    "# Confusion matrix using Logistic Regression.\n",
    "# Use the model w/best recall score to make predictions\n",
    "preds = logreg.predict(Z_test) \n",
    "cm = confusion_matrix(y_test, preds, labels=logreg.classes_)\n",
    "# Plot confusion matrix\n",
    "disp = ConfusionMatrixDisplay(confusion_matrix=cm, \n",
    "                               display_labels=logreg.classes_)\n",
    "disp.plot(cmap= 'tab20c',colorbar = False);\n",
    "\n",
    "plt.tight_layout()\n",
    "\n",
    "# Save Image\n",
    "plt.savefig('images/cm.png')"
   ]
  },
  {
   "cell_type": "markdown",
   "id": "e77399bc-5e58-476e-8e00-12227adeef17",
   "metadata": {},
   "source": [
    "- since we want to minimize false negatives and optimize the recall score, logistic regression would be the best model\n",
    "- logistic regression has a recall score of 61.5% with 20 false negatives\n",
    "- random forests and adaboost performed the best in terms of accuracy score"
   ]
  },
  {
   "cell_type": "code",
   "execution_count": 20,
   "id": "ebcff10a-2cba-4c8f-808f-1c7067a509f3",
   "metadata": {},
   "outputs": [],
   "source": [
    "# Save the transformers and best model \n",
    "pickle.dump(poly, open('poly.pkl','wb'))\n",
    "pickle.dump(ss, open('ss.pkl','wb'))\n",
    "pickle.dump(logreg, open('lr.pkl','wb'))"
   ]
  },
  {
   "cell_type": "code",
   "execution_count": null,
   "id": "74eea4a8-ae2c-441f-b9e6-75d1af350bed",
   "metadata": {},
   "outputs": [],
   "source": []
  }
 ],
 "metadata": {
  "kernelspec": {
   "display_name": "Python [conda env:newdsi-111] *",
   "language": "python",
   "name": "conda-env-newdsi-111-py"
  },
  "language_info": {
   "codemirror_mode": {
    "name": "ipython",
    "version": 3
   },
   "file_extension": ".py",
   "mimetype": "text/x-python",
   "name": "python",
   "nbconvert_exporter": "python",
   "pygments_lexer": "ipython3",
   "version": "3.9.7"
  }
 },
 "nbformat": 4,
 "nbformat_minor": 5
}
