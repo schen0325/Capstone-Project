{
 "cells": [
  {
   "cell_type": "markdown",
   "id": "1d5cf419-bf7b-4397-bb6b-b7b172b8d606",
   "metadata": {},
   "source": [
    "# Problem Statement"
   ]
  },
  {
   "cell_type": "markdown",
   "id": "f563f303-d0d3-4068-b935-4dd627dd60fe",
   "metadata": {},
   "source": [
    "Data scientist in the marketing team at Capital Bikeshare. Our team wants to understand how causal riders and annual members use bikes differently. \n",
    "- Increase annual members/increase sales\n",
    "- Analyze casual and annual members\n",
    "- Predict trip duration \n",
    "- Predict bikeshare demand at stops to efficiently allocate bikes \n"
   ]
  },
  {
   "cell_type": "markdown",
   "id": "a9094a41-6fc8-42d7-849f-dbac72edf5ee",
   "metadata": {},
   "source": [
    "## Data Imports"
   ]
  },
  {
   "cell_type": "markdown",
   "id": "d12c6cc3-960d-4fee-b15d-ff367b841405",
   "metadata": {},
   "source": [
    "- use data from Dec.2020 to Nov.2021"
   ]
  },
  {
   "cell_type": "code",
   "execution_count": null,
   "id": "baa93cdb-a8ac-4552-9707-79c427b5e8e1",
   "metadata": {},
   "outputs": [],
   "source": []
  }
 ],
 "metadata": {
  "kernelspec": {
   "display_name": "Python [conda env:newdsi-111] *",
   "language": "python",
   "name": "conda-env-newdsi-111-py"
  },
  "language_info": {
   "codemirror_mode": {
    "name": "ipython",
    "version": 3
   },
   "file_extension": ".py",
   "mimetype": "text/x-python",
   "name": "python",
   "nbconvert_exporter": "python",
   "pygments_lexer": "ipython3",
   "version": "3.9.7"
  }
 },
 "nbformat": 4,
 "nbformat_minor": 5
}
